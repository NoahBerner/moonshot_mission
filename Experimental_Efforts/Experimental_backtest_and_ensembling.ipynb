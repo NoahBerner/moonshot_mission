{
 "cells": [
  {
   "cell_type": "code",
   "execution_count": 1,
   "metadata": {},
   "outputs": [],
   "source": [
    "%matplotlib inline\n",
    "import sys\n",
    "from u8timeseries import Prophet, KthValueAgoBaseline, ExponentialSmoothing, TimeSeries, Arima, AutoArima\n",
    "from u8timeseries import StandardRegressiveModel\n",
    "from u8timeseries.models.regressive_model import RegressiveModel\n",
    "from u8timeseries.metrics import mape, overall_percentage_error, mase\n",
    "from u8timeseries.backtesting import simulate_forecast_ar, simulate_forecast_regr, get_train_val_series,\\\n",
    "                                     backtest_autoregressive_model\n",
    "\n",
    "import pandas as pd\n",
    "pd.__version__\n",
    "import numpy as np\n",
    "from datetime import datetime\n",
    "import time\n",
    "import matplotlib.pyplot as plt\n",
    "\n",
    "from typing import List, Optional"
   ]
  },
  {
   "cell_type": "markdown",
   "metadata": {},
   "source": [
    "Ensembling and Backtesting"
   ]
  },
  {
   "cell_type": "markdown",
   "metadata": {},
   "source": [
    "**Task**: Create a **TimeSeries** from a pandas dataframe loading the retailNz dataset."
   ]
  },
  {
   "cell_type": "code",
   "execution_count": 2,
   "metadata": {},
   "outputs": [],
   "source": [
    "# data_key = 'Chemist' # or 'Chemist' or 'Footwear'\n",
    "# df = pd.read_csv('RetailNZ.csv', sep = ',')\n",
    "# series = TimeSeries.from_dataframe(df, 'Time', data_key) # we ca explicitely give what column contains values\n",
    "# series.plot(lw=2)"
   ]
  },
  {
   "cell_type": "code",
   "execution_count": 51,
   "metadata": {},
   "outputs": [
    {
     "name": "stdout",
     "output_type": "stream",
     "text": [
      "       date   Close  total-reactions  reactions-like  reactions_love  \\\n",
      "63  2019-06  728.63         599007.0        440453.0        102017.0   \n",
      "64  2019-07  905.10         651617.5        575417.0         62935.5   \n",
      "65  2019-08  832.93         504588.0        454450.0         39986.0   \n",
      "66  2019-09  798.67         459160.5        410703.0         39421.0   \n",
      "67  2019-10  140.68         218620.0        193025.0         19255.0   \n",
      "\n",
      "    reactions-haha  reactions-wow  reactions-sad  reactions-angry  comments  \\\n",
      "63         35081.0        14986.0         2268.0           4202.0   32392.0   \n",
      "64          3713.0         8515.0          609.0            428.0   29847.0   \n",
      "65          3692.0         5728.0          414.0            318.0   17890.0   \n",
      "66          2889.5         5369.5          363.0            414.5   18785.5   \n",
      "67          4396.0         1728.0          124.0             92.0    6771.0   \n",
      "\n",
      "    ...  engagement_score     value   min_wk  mean_wk   max_wk     std_wk  \\\n",
      "63  ...           18724.0  1094.724  697.030  710.730  722.400  10.750572   \n",
      "64  ...           28470.0  1323.599  876.820  887.449  899.005   9.380606   \n",
      "65  ...           18194.0  1206.326  842.510  857.240  870.610  11.444211   \n",
      "66  ...           20469.5  1193.820  777.265  793.703  808.250  12.872243   \n",
      "67  ...            2915.0   211.520  147.080  148.982  150.610   1.338331   \n",
      "\n",
      "    min_mth    mean_mth  max_mth    std_mth  \n",
      "63   731.64  770.772727  802.910  19.947548  \n",
      "64   766.82  827.521818  872.355  28.370509  \n",
      "65   801.56  838.378182  874.320  22.197599  \n",
      "66   780.33  824.551364  857.070  24.344959  \n",
      "67   143.56  150.847273  160.450   5.291389  \n",
      "\n",
      "[5 rows x 61 columns]\n",
      "       date    Close  total-reactions  reactions-like  reactions_love  \\\n",
      "62  2019-05  844.135         886840.0        776564.5         93409.0   \n",
      "63  2019-06  728.630         599007.0        440453.0        102017.0   \n",
      "64  2019-07  905.100         651617.5        575417.0         62935.5   \n",
      "65  2019-08  832.930         504588.0        454450.0         39986.0   \n",
      "66  2019-09  798.670         459160.5        410703.0         39421.0   \n",
      "\n",
      "    reactions-haha  reactions-wow  reactions-sad  reactions-angry  comments  \\\n",
      "62          6924.0         8357.0          952.0            633.5   26732.0   \n",
      "63         35081.0        14986.0         2268.0           4202.0   32392.0   \n",
      "64          3713.0         8515.0          609.0            428.0   29847.0   \n",
      "65          3692.0         5728.0          414.0            318.0   17890.0   \n",
      "66          2889.5         5369.5          363.0            414.5   18785.5   \n",
      "\n",
      "    ...  engagement_score     value   min_wk  mean_wk   max_wk     std_wk  \\\n",
      "62  ...           17463.0  1398.205  860.470  874.975  887.740  11.190758   \n",
      "63  ...           18724.0  1094.724  697.030  710.730  722.400  10.750572   \n",
      "64  ...           28470.0  1323.599  876.820  887.449  899.005   9.380606   \n",
      "65  ...           18194.0  1206.326  842.510  857.240  870.610  11.444211   \n",
      "66  ...           20469.5  1193.820  777.265  793.703  808.250  12.872243   \n",
      "\n",
      "    min_mth    mean_mth  max_mth    std_mth  \n",
      "62   841.40  880.880227  914.650  22.347253  \n",
      "63   731.64  770.772727  802.910  19.947548  \n",
      "64   766.82  827.521818  872.355  28.370509  \n",
      "65   801.56  838.378182  874.320  22.197599  \n",
      "66   780.33  824.551364  857.070  24.344959  \n",
      "\n",
      "[5 rows x 61 columns]\n"
     ]
    },
    {
     "data": {
      "image/png": "[encoded data removed]",
      "text/plain": [
       "<Figure size 432x288 with 1 Axes>"
      ]
     },
     "metadata": {
      "needs_background": "light"
     },
     "output_type": "display_data"
    }
   ],
   "source": [
    "data_key = 'Close' # or 'Chemist' or 'Footwear'\n",
    "df = pd.read_csv('data/GM_ds.csv', sep = ',')\n",
    "df2 = df.drop(df.index[-1])\n",
    "print(df.tail())\n",
    "print(df2.tail())\n",
    "# business_days = pd.bdate_range(start=df.iloc[0].values[0], end=df.iloc[-1].values[0])\n",
    "series = TimeSeries.from_dataframe(df2, 'date', data_key) # we ca explicitely give what column contains values\n",
    "# print(type(series))\n",
    "# tmp = series.pd_series().drop(series.pd_series().index[-1])\n",
    "# print(tmp.head())\n",
    "# series = TimeSeries.from_dataframe(series.pd_series().drop(series.pd_series().index[-1]), 'date', data_key)\n",
    "# print(type(series))\n",
    "series.plot(lw=2)"
   ]
  },
  {
   "cell_type": "code",
   "execution_count": 39,
   "metadata": {},
   "outputs": [
    {
     "name": "stdout",
     "output_type": "stream",
     "text": [
      "date\n",
      "2014-03-01    670.570\n",
      "2014-04-01    747.520\n",
      "2014-05-01    755.965\n",
      "2014-06-01    761.100\n",
      "2014-07-01    847.510\n",
      "Freq: MS, dtype: float64\n",
      "date\n",
      "2019-06-01    728.63\n",
      "2019-07-01    905.10\n",
      "2019-08-01    832.93\n",
      "2019-09-01    798.67\n",
      "2019-10-01    140.68\n",
      "Freq: MS, dtype: float64\n",
      "date\n",
      "2014-03-01    670.570\n",
      "2014-04-01    747.520\n",
      "2014-05-01    755.965\n",
      "2014-06-01    761.100\n",
      "2014-07-01    847.510\n",
      "               ...   \n",
      "2019-05-01    844.135\n",
      "2019-06-01    728.630\n",
      "2019-07-01    905.100\n",
      "2019-08-01    832.930\n",
      "2019-09-01    798.670\n",
      "Freq: MS, Length: 67, dtype: float64\n"
     ]
    }
   ],
   "source": [
    "# print(series.pd_series().head())\n",
    "# print(series.pd_series().tail())\n",
    "# print(series.pd_series().drop(series.pd_series().index[-1]))\n"
   ]
  },
  {
   "cell_type": "code",
   "execution_count": 23,
   "metadata": {},
   "outputs": [],
   "source": [
    "# # drop_point = int(np.round(series.pd_series().shape[0] * .1))\n",
    "# # drop_date = series.pd_series().index[drop_point]\n",
    "\n",
    "# series = series.drop_end(drop_date)"
   ]
  },
  {
   "cell_type": "code",
   "execution_count": 24,
   "metadata": {},
   "outputs": [],
   "source": [
    "# print(series.pd_series().shape)\n",
    "# print(drop_point)\n",
    "# print(drop_date)"
   ]
  },
  {
   "cell_type": "code",
   "execution_count": 25,
   "metadata": {},
   "outputs": [],
   "source": [
    "# split = int(np.round(series.pd_series().shape[0] * .8))\n",
    "\n",
    "# print(series.pd_series().index[split])\n",
    "# print(type(series))\n",
    "# print(type(pd.Timestamp('20070101')))\n",
    "# print(pd.Timestamp('20070101') in series.pd_series().index)"
   ]
  },
  {
   "cell_type": "code",
   "execution_count": 26,
   "metadata": {},
   "outputs": [],
   "source": [
    "# print(series.pd_series().index.values[0])\n",
    "# print(series.pd_series().index.values[-1])\n",
    "# print(series.pd_series().shape)\n",
    "# print(int(np.round(series.pd_series().shape[0] * .8)))"
   ]
  },
  {
   "cell_type": "code",
   "execution_count": null,
   "metadata": {},
   "outputs": [],
   "source": []
  },
  {
   "cell_type": "code",
   "execution_count": null,
   "metadata": {},
   "outputs": [],
   "source": []
  },
  {
   "cell_type": "markdown",
   "metadata": {},
   "source": [
    "Initialize a series of models"
   ]
  },
  {
   "cell_type": "code",
   "execution_count": 52,
   "metadata": {},
   "outputs": [],
   "source": [
    "model_es = ExponentialSmoothing()\n",
    "model_pr = Prophet()\n",
    "model_ar = AutoArima()"
   ]
  },
  {
   "cell_type": "markdown",
   "metadata": {},
   "source": [
    "We're going to perform predictions starting 2007.\n",
    "\n",
    "**Task**: try one of these models and plot the predictions."
   ]
  },
  {
   "cell_type": "code",
   "execution_count": 53,
   "metadata": {},
   "outputs": [
    {
     "name": "stdout",
     "output_type": "stream",
     "text": [
      "54\n",
      "2018-09-01 00:00:00\n",
      "(67,)\n",
      "2014-03-01 00:00:00\n",
      "2019-09-01 00:00:00\n"
     ]
    },
    {
     "data": {
      "text/plain": [
       "<matplotlib.legend.Legend at 0x7fd128d5e4e0>"
      ]
     },
     "execution_count": 53,
     "metadata": {},
     "output_type": "execute_result"
    },
    {
     "data": {
      "image/png": "[encoded data removed]",
      "text/plain": [
       "<Figure size 432x288 with 1 Axes>"
      ]
     },
     "metadata": {
      "needs_background": "light"
     },
     "output_type": "display_data"
    }
   ],
   "source": [
    "# splitting ratio\n",
    "split = int(np.round(series.pd_series().shape[0] * .8))\n",
    "split_date = series.pd_series().index[split]\n",
    "print(split)\n",
    "print(split_date)\n",
    "print(series.pd_series().shape)\n",
    "print(series.pd_series().index[0])\n",
    "print(series.pd_series().index[-1])\n",
    "\n",
    "train, val = series.split_after(split_date)\n",
    "model_pr.fit(train)\n",
    "pred = model_pr.predict(len(val))\n",
    "\n",
    "train.plot(lw=2, label='train')\n",
    "val.plot(lw=2, label='true')\n",
    "pred.plot(lw=2, label='prediction')\n",
    "plt.legend()"
   ]
  },
  {
   "cell_type": "markdown",
   "metadata": {},
   "source": [
    "## Backtesting"
   ]
  },
  {
   "cell_type": "markdown",
   "metadata": {},
   "source": [
    "Next, we'll do some backtesting, which means that we will simulate predictions that would have been done historically with a given model.\n",
    "\n",
    "We are going to simulate forecasts for 6 months in the future, and this number of time steps is called **forecast horizon**.\n",
    "\n",
    "The model is refit every 6 month with previous step forecast horizon as training data, so this will take some time."
   ]
  },
  {
   "cell_type": "code",
   "execution_count": 54,
   "metadata": {},
   "outputs": [
    {
     "data": {
      "application/vnd.jupyter.widget-view+json": {
       "model_id": "a5cd200be0a64f6890ac78abac6f075c",
       "version_major": 2,
       "version_minor": 0
      },
      "text/plain": [
       "HBox(children=(IntProgress(value=0, max=7), HTML(value='')))"
      ]
     },
     "metadata": {},
     "output_type": "display_data"
    },
    {
     "name": "stdout",
     "output_type": "stream",
     "text": [
      "\n",
      "Backtesting elapsed time: 26.646857500076294\n"
     ]
    }
   ],
   "source": [
    "bt_start = time.time()\n",
    "historical_fcast = simulate_forecast_ar(series, model_es, split_date, fcast_horizon_n=6, verbose=True)\n",
    "print('Backtesting elapsed time: {}'.format(time.time() - bt_start))"
   ]
  },
  {
   "cell_type": "markdown",
   "metadata": {},
   "source": [
    "Plot the results."
   ]
  },
  {
   "cell_type": "code",
   "execution_count": 55,
   "metadata": {},
   "outputs": [
    {
     "data": {
      "text/plain": [
       "<matplotlib.legend.Legend at 0x7fd12d7ad240>"
      ]
     },
     "execution_count": 55,
     "metadata": {},
     "output_type": "execute_result"
    },
    {
     "data": {
      "image/png": "[encoded data removed]",
      "text/plain": [
       "<Figure size 576x432 with 1 Axes>"
      ]
     },
     "metadata": {
      "needs_background": "light"
     },
     "output_type": "display_data"
    }
   ],
   "source": [
    "plt.figure(figsize=(8,6))\n",
    "series.plot(label='data')\n",
    "historical_fcast.plot(lw=3, label='Backtest 6-months ahead forecast')\n",
    "plt.legend()"
   ]
  },
  {
   "cell_type": "markdown",
   "metadata": {},
   "source": [
    "## Backtest the models on the data using a user-defined metric\n",
    "Here we'll do slightly more advanced backtesting, and use our own metric (in this case the MAPE error function) to compare the different models. We'll simulate 12-months ahead predictions done in the past, starting in January 1955, and the errors will be computed on the 12-months period for which forecasts are done."
   ]
  },
  {
   "cell_type": "code",
   "execution_count": 56,
   "metadata": {},
   "outputs": [],
   "source": [
    "def backtest_model(model, series):\n",
    "    tic = time.time()\n",
    "    train_val_series = get_train_val_series(series, start=split_date, nr_points_val=12)\n",
    "    res = backtest_autoregressive_model(model, train_val_series, mape)\n",
    "    tac = time.time()\n",
    "    print('Backtest done in %.2f s.' % (tac-tic))\n",
    "    return res"
   ]
  },
  {
   "cell_type": "code",
   "execution_count": 57,
   "metadata": {},
   "outputs": [
    {
     "name": "stdout",
     "output_type": "stream",
     "text": [
      "Backtest done in 0.42 s.\n",
      "Backtest done in 2.33 s.\n"
     ]
    }
   ],
   "source": [
    "res_ar = backtest_model(model_ar, series)\n",
    "res_pr = backtest_model(model_pr, series)"
   ]
  },
  {
   "cell_type": "markdown",
   "metadata": {},
   "source": [
    "### Plot the user-defined backtesting results"
   ]
  },
  {
   "cell_type": "code",
   "execution_count": 58,
   "metadata": {},
   "outputs": [
    {
     "data": {
      "text/plain": [
       "<matplotlib.legend.Legend at 0x7fd128a8dac8>"
      ]
     },
     "execution_count": 58,
     "metadata": {},
     "output_type": "execute_result"
    },
    {
     "data": {
      "image/png": "[encoded data removed]",
      "text/plain": [
       "<Figure size 432x288 with 1 Axes>"
      ]
     },
     "metadata": {
      "needs_background": "light"
     },
     "output_type": "display_data"
    }
   ],
   "source": [
    "plt.hist(res_ar, bins=50, cumulative=True, histtype='step', \n",
    "         lw=2, label='AutoARIMA');\n",
    "plt.hist(res_pr, bins=50, cumulative=True, histtype='step', \n",
    "         lw=2, label='Prophet');\n",
    "\n",
    "plt.xlabel('Mean absolute percentage error (%)')\n",
    "plt.ylabel('CDF')  # Cumulative distribution function\n",
    "plt.legend(loc=4)"
   ]
  },
  {
   "cell_type": "markdown",
   "metadata": {},
   "source": [
    "**Task**: based on the results, use the best performing model to make an actual forecast, for 3 years ahead."
   ]
  },
  {
   "cell_type": "code",
   "execution_count": 59,
   "metadata": {},
   "outputs": [
    {
     "data": {
      "text/plain": [
       "<matplotlib.legend.Legend at 0x7fd128cd2908>"
      ]
     },
     "execution_count": 59,
     "metadata": {},
     "output_type": "execute_result"
    },
    {
     "data": {
      "image/png": "[encoded data removed]",
      "text/plain": [
       "<Figure size 432x288 with 1 Axes>"
      ]
     },
     "metadata": {
      "needs_background": "light"
     },
     "output_type": "display_data"
    }
   ],
   "source": [
    "model_ar.fit(series)\n",
    "pred = model_ar.predict(n = 36)\n",
    "\n",
    "series.plot(label='data', lw=2)\n",
    "pred.plot(label='forecast', lw=2)\n",
    "plt.legend()"
   ]
  },
  {
   "cell_type": "markdown",
   "metadata": {},
   "source": [
    "## Ensembling several predictions\n",
    "Let's simulate forecasts done by an ensemble of models"
   ]
  },
  {
   "cell_type": "markdown",
   "metadata": {},
   "source": [
    "First, backtest over time using the models you want to use in the ensemble method.\n",
    "We backtest over a forecast horizon of 6 months from 2007."
   ]
  },
  {
   "cell_type": "code",
   "execution_count": 60,
   "metadata": {},
   "outputs": [
    {
     "data": {
      "application/vnd.jupyter.widget-view+json": {
       "model_id": "ef7d537eb41a4811bf25ba776259fe09",
       "version_major": 2,
       "version_minor": 0
      },
      "text/plain": [
       "HBox(children=(IntProgress(value=0, max=7), HTML(value='')))"
      ]
     },
     "metadata": {},
     "output_type": "display_data"
    },
    {
     "name": "stdout",
     "output_type": "stream",
     "text": [
      "\n"
     ]
    }
   ],
   "source": [
    "split = int(np.round(series.pd_series().shape[0] * .8))\n",
    "split_date = series.pd_series().index[split]\n",
    "\n",
    "models = [Prophet()]#, Arima(), AutoArima(), ExponentialSmoothing()]\n",
    "\n",
    "historical_ar_preds = [simulate_forecast_ar(series, m, split_date, fcast_horizon_n=6, verbose=True)\n",
    "                       for m in models]"
   ]
  },
  {
   "cell_type": "markdown",
   "metadata": {},
   "source": [
    "Combine the individual simulated predictions. A regressive model in contrary to an auto regressive model doesn't forecast based on the previous values of the series but based on a set of features data points.\n",
    "\n",
    "In this example we will use the StandardRegressiveModel which is a Linear Regression, the features are the predictions made by backtesting and the Linear Regression model will be trained on 12 points (12 pairs of predictions).\n",
    "\n",
    "On other hand, it will learn the optimal weights such as the weighted average of predictions is the closest to the groundtruth"
   ]
  },
  {
   "cell_type": "code",
   "execution_count": null,
   "metadata": {},
   "outputs": [],
   "source": []
  },
  {
   "cell_type": "code",
   "execution_count": null,
   "metadata": {},
   "outputs": [],
   "source": []
  },
  {
   "cell_type": "code",
   "execution_count": 65,
   "metadata": {},
   "outputs": [],
   "source": [
    "def drop_end2(series: TimeSeries, ts: pd.Timestamp) -> 'TimeSeries':\n",
    "        \"\"\"\n",
    "        Drops everything after ts, included\n",
    "        \"\"\"\n",
    "        assert ts in series.pd_series().index, 'The provided timestamp is not in the time series'\n",
    "        end_series: pd.Timestamp = ts# - self.freq()\n",
    "#             return slice2(self.start_time(), end_series)\n",
    "        return slice2(series, end_series)"
   ]
  },
  {
   "cell_type": "code",
   "execution_count": 66,
   "metadata": {},
   "outputs": [],
   "source": [
    "def slice2(series: TimeSeries, end_ts: pd.Timestamp) -> 'TimeSeries':\n",
    "        \"\"\"\n",
    "        Returns a new time series, starting later than [start_ts] (inclusive) and ending before [end_ts] (inclusive)\n",
    "        :param start_ts:\n",
    "        :param end_ts:\n",
    "        :return:\n",
    "        \"\"\"\n",
    "        start_ts = series.pd_series().index[0]\n",
    "        assert end_ts >= start_ts, 'End timestamp must be strictly after start timestamp when slicing'\n",
    "#         assert end_ts >= self.start_time(), 'End timestamp must be after the start of the time series when slicing'\n",
    "#         assert start_ts <= self.end_time(), 'Start timestamp must be after the end of the time series when slicing'\n",
    "\n",
    "        def _slice_not_none(s: Optional[pd.Series]) -> Optional[pd.Series]:\n",
    "            if s is not None:\n",
    "                s_a = s[s.index >= start_ts]\n",
    "                return s_a[s_a.index <= end_ts]\n",
    "            return None\n",
    "\n",
    "#         return TimeSeries(_slice_not_none(self._series),\n",
    "#                           _slice_not_none(self._confidence_lo),\n",
    "#                           _slice_not_none(self._confidence_hi))\n",
    "        return TimeSeries(_slice_not_none(series.pd_series()),\n",
    "                          None,\n",
    "                          None)"
   ]
  },
  {
   "cell_type": "code",
   "execution_count": 67,
   "metadata": {},
   "outputs": [],
   "source": [
    "def _build_iterator(iterable, verbose):\n",
    "    def _isnotebook():\n",
    "        try:\n",
    "            shell = get_ipython().__class__.__name__\n",
    "            if shell == 'ZMQInteractiveShell':\n",
    "                return True  # Jupyter notebook or qtconsole\n",
    "            elif shell == 'TerminalInteractiveShell':\n",
    "                return False  # Terminal running IPython\n",
    "            else:\n",
    "                return False  # Other type (?)\n",
    "        except NameError:\n",
    "            return False  # Probably standard Python interpreter\n",
    "\n",
    "    if verbose:\n",
    "        if _isnotebook():\n",
    "            iterator = tqdm_notebook(iterable)\n",
    "        else:\n",
    "            iterator = tqdm(iterable)\n",
    "    else:\n",
    "        iterator = iterable\n",
    "    return iterator"
   ]
  },
  {
   "cell_type": "code",
   "execution_count": 68,
   "metadata": {},
   "outputs": [],
   "source": [
    "def simulate_forecast_regr2(feature_series: List[TimeSeries],\n",
    "                           target_series: TimeSeries,\n",
    "                           model: RegressiveModel,\n",
    "                           start: pd.Timestamp,\n",
    "                           fcast_horizon_n: int,\n",
    "                           trim_to_series: bool = True,\n",
    "                           verbose=False) -> TimeSeries:\n",
    "    \"\"\"\n",
    "    Returns a TimeSeries containing the forecasts that would have been obtained from a given RegressiveModel,\n",
    "    on a given forecast time horizon.\n",
    "    TODO: optionally also return weights, when those are available in model\n",
    "    TODO: (getattr(model.model, 'coef_', None) is not None)\n",
    "    :param feature_series: the feature time series of the regressive model\n",
    "    :param target_series: the target time series of the regressive model (i.e., the series to predict)\n",
    "    :param model: the RegressiveModel to use\n",
    "    :param start: when the forecasts start (i.e., the first time at which a prediction is produced for a future time)\n",
    "    :param fcast_horizon_n: the forecast horizon\n",
    "    :param trim_to_series: whether the returned predicted series has the end trimmed to match the end of the main series\n",
    "    :param verbose: whether to print progress\n",
    "    :return:\n",
    "    \"\"\"\n",
    "    assert all([s.has_same_time_as(target_series) for s in feature_series]), 'All provided time series must ' \\\n",
    "                                                                             'have the same time index'\n",
    "    assert start in target_series.pd_series().index, 'The provided start timestamp is not in the time series.'\n",
    "    assert start != target_series.end_time(), 'The provided start timestamp is the last timestamp of the time series'\n",
    "\n",
    "    last_pred_time = target_series.time_index()[-fcast_horizon_n - 2] if trim_to_series else target_series.time_index()[-2]\n",
    "\n",
    "    # build the prediction times in advance (to be able to use tqdm)\n",
    "    pred_times = [start]\n",
    "    while pred_times[-1] <= last_pred_time:\n",
    "        pred_times.append(pred_times[-1] + target_series.freq())\n",
    "    \n",
    "#     print('pred_times: {}'.format(pred_times))\n",
    "\n",
    "    # what we'll return\n",
    "    values = []\n",
    "    times = []\n",
    "\n",
    "    iterator = _build_iterator(pred_times, verbose)\n",
    "\n",
    "    for pred_time in iterator:\n",
    "        if not verbose:\n",
    "            print('.', end='')\n",
    "        # build train/val series\n",
    "        train_features = [drop_end2(s, pred_time) for s in feature_series]\n",
    "        train_target = target_series.drop_end(pred_time)\n",
    "        val_features = [s.slice_n_points_after(pred_time + target_series.freq(), fcast_horizon_n)\n",
    "                        for s in feature_series]\n",
    "\n",
    "        model.fit(train_features, train_target)\n",
    "        pred = model.predict(val_features)\n",
    "        values.append(pred.values()[-1])  # store the N-th point\n",
    "        times.append(pred.end_time())  # store the N-th timestamp\n",
    "\n",
    "    return TimeSeries.from_times_and_values(pd.DatetimeIndex(times), np.array(values))"
   ]
  },
  {
   "cell_type": "code",
   "execution_count": 70,
   "metadata": {},
   "outputs": [
    {
     "name": "stdout",
     "output_type": "stream",
     "text": [
      "<class 'u8timeseries.timeseries.TimeSeries'>\n",
      "(7,)\n",
      "type(historical_ar_preds): <class 'list'>\n",
      "type(historical_ar_preds)[0]: <class 'u8timeseries.timeseries.TimeSeries'>\n",
      "historical_ar_preds[0].pd_series().shape: (7,)\n",
      "series_val.pd_series().index[0]:  2019-02-01 00:00:00\n",
      "series_val.pd_series().index[-1]: 2019-08-01 00:00:00\n",
      "<class 'pandas._libs.tslibs.timestamps.Timestamp'>\n",
      "."
     ]
    },
    {
     "ename": "AssertionError",
     "evalue": "Could not infer frequency. Are some dates missing? Is Series too short (n=2)?",
     "output_type": "error",
     "traceback": [
      "\u001b[0;31m---------------------------------------------------------------------------\u001b[0m",
      "\u001b[0;31mAssertionError\u001b[0m                            Traceback (most recent call last)",
      "\u001b[0;32m<ipython-input-70-160daef7b5fe>\u001b[0m in \u001b[0;36m<module>\u001b[0;34m\u001b[0m\n\u001b[1;32m     12\u001b[0m \u001b[0;34m\u001b[0m\u001b[0m\n\u001b[1;32m     13\u001b[0m historical_pred = simulate_forecast_regr2(historical_ar_preds, series_val, regrModel,\n\u001b[0;32m---> 14\u001b[0;31m                                          series_val.pd_series().index[0], fcast_horizon_n=5)\n\u001b[0m",
      "\u001b[0;32m<ipython-input-68-d165bbc869b8>\u001b[0m in \u001b[0;36msimulate_forecast_regr2\u001b[0;34m(feature_series, target_series, model, start, fcast_horizon_n, trim_to_series, verbose)\u001b[0m\n\u001b[1;32m     44\u001b[0m             \u001b[0mprint\u001b[0m\u001b[0;34m(\u001b[0m\u001b[0;34m'.'\u001b[0m\u001b[0;34m,\u001b[0m \u001b[0mend\u001b[0m\u001b[0;34m=\u001b[0m\u001b[0;34m''\u001b[0m\u001b[0;34m)\u001b[0m\u001b[0;34m\u001b[0m\u001b[0;34m\u001b[0m\u001b[0m\n\u001b[1;32m     45\u001b[0m         \u001b[0;31m# build train/val series\u001b[0m\u001b[0;34m\u001b[0m\u001b[0;34m\u001b[0m\u001b[0;34m\u001b[0m\u001b[0m\n\u001b[0;32m---> 46\u001b[0;31m         \u001b[0mtrain_features\u001b[0m \u001b[0;34m=\u001b[0m \u001b[0;34m[\u001b[0m\u001b[0mdrop_end2\u001b[0m\u001b[0;34m(\u001b[0m\u001b[0ms\u001b[0m\u001b[0;34m,\u001b[0m \u001b[0mpred_time\u001b[0m\u001b[0;34m)\u001b[0m \u001b[0;32mfor\u001b[0m \u001b[0ms\u001b[0m \u001b[0;32min\u001b[0m \u001b[0mfeature_series\u001b[0m\u001b[0;34m]\u001b[0m\u001b[0;34m\u001b[0m\u001b[0;34m\u001b[0m\u001b[0m\n\u001b[0m\u001b[1;32m     47\u001b[0m         \u001b[0mtrain_target\u001b[0m \u001b[0;34m=\u001b[0m \u001b[0mtarget_series\u001b[0m\u001b[0;34m.\u001b[0m\u001b[0mdrop_end\u001b[0m\u001b[0;34m(\u001b[0m\u001b[0mpred_time\u001b[0m\u001b[0;34m)\u001b[0m\u001b[0;34m\u001b[0m\u001b[0;34m\u001b[0m\u001b[0m\n\u001b[1;32m     48\u001b[0m         val_features = [s.slice_n_points_after(pred_time + target_series.freq(), fcast_horizon_n)\n",
      "\u001b[0;32m<ipython-input-68-d165bbc869b8>\u001b[0m in \u001b[0;36m<listcomp>\u001b[0;34m(.0)\u001b[0m\n\u001b[1;32m     44\u001b[0m             \u001b[0mprint\u001b[0m\u001b[0;34m(\u001b[0m\u001b[0;34m'.'\u001b[0m\u001b[0;34m,\u001b[0m \u001b[0mend\u001b[0m\u001b[0;34m=\u001b[0m\u001b[0;34m''\u001b[0m\u001b[0;34m)\u001b[0m\u001b[0;34m\u001b[0m\u001b[0;34m\u001b[0m\u001b[0m\n\u001b[1;32m     45\u001b[0m         \u001b[0;31m# build train/val series\u001b[0m\u001b[0;34m\u001b[0m\u001b[0;34m\u001b[0m\u001b[0;34m\u001b[0m\u001b[0m\n\u001b[0;32m---> 46\u001b[0;31m         \u001b[0mtrain_features\u001b[0m \u001b[0;34m=\u001b[0m \u001b[0;34m[\u001b[0m\u001b[0mdrop_end2\u001b[0m\u001b[0;34m(\u001b[0m\u001b[0ms\u001b[0m\u001b[0;34m,\u001b[0m \u001b[0mpred_time\u001b[0m\u001b[0;34m)\u001b[0m \u001b[0;32mfor\u001b[0m \u001b[0ms\u001b[0m \u001b[0;32min\u001b[0m \u001b[0mfeature_series\u001b[0m\u001b[0;34m]\u001b[0m\u001b[0;34m\u001b[0m\u001b[0;34m\u001b[0m\u001b[0m\n\u001b[0m\u001b[1;32m     47\u001b[0m         \u001b[0mtrain_target\u001b[0m \u001b[0;34m=\u001b[0m \u001b[0mtarget_series\u001b[0m\u001b[0;34m.\u001b[0m\u001b[0mdrop_end\u001b[0m\u001b[0;34m(\u001b[0m\u001b[0mpred_time\u001b[0m\u001b[0;34m)\u001b[0m\u001b[0;34m\u001b[0m\u001b[0;34m\u001b[0m\u001b[0m\n\u001b[1;32m     48\u001b[0m         val_features = [s.slice_n_points_after(pred_time + target_series.freq(), fcast_horizon_n)\n",
      "\u001b[0;32m<ipython-input-65-6db3e8898e84>\u001b[0m in \u001b[0;36mdrop_end2\u001b[0;34m(series, ts)\u001b[0m\n\u001b[1;32m      6\u001b[0m         \u001b[0mend_series\u001b[0m\u001b[0;34m:\u001b[0m \u001b[0mpd\u001b[0m\u001b[0;34m.\u001b[0m\u001b[0mTimestamp\u001b[0m \u001b[0;34m=\u001b[0m \u001b[0mts\u001b[0m\u001b[0;31m# - self.freq()\u001b[0m\u001b[0;34m\u001b[0m\u001b[0;34m\u001b[0m\u001b[0m\n\u001b[1;32m      7\u001b[0m \u001b[0;31m#             return slice2(self.start_time(), end_series)\u001b[0m\u001b[0;34m\u001b[0m\u001b[0;34m\u001b[0m\u001b[0;34m\u001b[0m\u001b[0m\n\u001b[0;32m----> 8\u001b[0;31m         \u001b[0;32mreturn\u001b[0m \u001b[0mslice2\u001b[0m\u001b[0;34m(\u001b[0m\u001b[0mseries\u001b[0m\u001b[0;34m,\u001b[0m \u001b[0mend_series\u001b[0m\u001b[0;34m)\u001b[0m\u001b[0;34m\u001b[0m\u001b[0;34m\u001b[0m\u001b[0m\n\u001b[0m",
      "\u001b[0;32m<ipython-input-66-12ba05646877>\u001b[0m in \u001b[0;36mslice2\u001b[0;34m(series, end_ts)\u001b[0m\n\u001b[1;32m     22\u001b[0m         return TimeSeries(_slice_not_none(series.pd_series()),\n\u001b[1;32m     23\u001b[0m                           \u001b[0;32mNone\u001b[0m\u001b[0;34m,\u001b[0m\u001b[0;34m\u001b[0m\u001b[0;34m\u001b[0m\u001b[0m\n\u001b[0;32m---> 24\u001b[0;31m                           None)\n\u001b[0m",
      "\u001b[0;32m/opt/conda/lib/python3.6/site-packages/u8timeseries/timeseries.py\u001b[0m in \u001b[0;36m__init__\u001b[0;34m(self, series, confidence_lo, confidence_hi)\u001b[0m\n\u001b[1;32m     26\u001b[0m \u001b[0;34m\u001b[0m\u001b[0m\n\u001b[1;32m     27\u001b[0m         \u001b[0;31m# TODO: optionally fill holes (including missing dates) - for now we assume no missing dates\u001b[0m\u001b[0;34m\u001b[0m\u001b[0;34m\u001b[0m\u001b[0;34m\u001b[0m\u001b[0m\n\u001b[0;32m---> 28\u001b[0;31m         \u001b[0;32massert\u001b[0m \u001b[0mself\u001b[0m\u001b[0;34m.\u001b[0m\u001b[0m_freq\u001b[0m \u001b[0;32mis\u001b[0m \u001b[0;32mnot\u001b[0m \u001b[0;32mNone\u001b[0m\u001b[0;34m,\u001b[0m \u001b[0;34m'Could not infer frequency. Are some dates missing? Is Series too short (n=2)?'\u001b[0m\u001b[0;34m\u001b[0m\u001b[0;34m\u001b[0m\u001b[0m\n\u001b[0m\u001b[1;32m     29\u001b[0m \u001b[0;34m\u001b[0m\u001b[0m\n\u001b[1;32m     30\u001b[0m         \u001b[0;31m# TODO: are there some pandas Series where the line below causes issues?\u001b[0m\u001b[0;34m\u001b[0m\u001b[0;34m\u001b[0m\u001b[0;34m\u001b[0m\u001b[0m\n",
      "\u001b[0;31mAssertionError\u001b[0m: Could not infer frequency. Are some dates missing? Is Series too short (n=2)?"
     ]
    }
   ],
   "source": [
    "regrModel = StandardRegressiveModel(train_n_points=12)\n",
    "\n",
    "series_val = series.intersect(historical_ar_preds[0])\n",
    "print(type(series_val))\n",
    "print(series_val.pd_series().shape)\n",
    "print('type(historical_ar_preds): {}'.format(type(historical_ar_preds)))\n",
    "print('type(historical_ar_preds)[0]: {}'.format(type(historical_ar_preds[0])))\n",
    "print('historical_ar_preds[0].pd_series().shape: {}'.format(historical_ar_preds[0].pd_series().shape))\n",
    "print('series_val.pd_series().index[0]:  {}'.format(series_val.pd_series().index[0]))\n",
    "print('series_val.pd_series().index[-1]: {}'.format(series_val.pd_series().index[-1]))\n",
    "print(type(series_val.pd_series().index[0]))\n",
    "\n",
    "historical_pred = simulate_forecast_regr2(historical_ar_preds, series_val, regrModel,\n",
    "                                         series_val.pd_series().index[0], fcast_horizon_n=5)"
   ]
  },
  {
   "cell_type": "code",
   "execution_count": null,
   "metadata": {},
   "outputs": [],
   "source": [
    "# _freq = series.pd_series().index.inferred_freq\n",
    "# print(_freq is None)\n",
    "# print(_freq)"
   ]
  },
  {
   "cell_type": "code",
   "execution_count": null,
   "metadata": {},
   "outputs": [],
   "source": []
  },
  {
   "cell_type": "code",
   "execution_count": null,
   "metadata": {},
   "outputs": [],
   "source": []
  },
  {
   "cell_type": "code",
   "execution_count": null,
   "metadata": {},
   "outputs": [],
   "source": []
  },
  {
   "cell_type": "code",
   "execution_count": null,
   "metadata": {},
   "outputs": [],
   "source": [
    "# regrModel = StandardRegressiveModel(train_n_points=12)\n",
    "\n",
    "# series_val = series.intersect(historical_ar_preds[0])\n",
    "# print(type(series_val))\n",
    "# print(series_val.pd_series().shape)\n",
    "# # print('type(historical_ar_preds): {}'.format(type(historical_ar_preds)))\n",
    "# # print('type(historical_ar_preds)[0]: {}'.format(type(historical_ar_preds[0])))\n",
    "# # print('historical_ar_preds[0].pd_series().shape: {}'.format(historical_ar_preds[0].pd_series().shape))\n",
    "# print('series_val.pd_series().index[0]:  {}'.format(series_val.pd_series().index[0]))\n",
    "# print('series_val.pd_series().index[-1]: {}'.format(series_val.pd_series().index[-1]))\n",
    "\n",
    "# split2 = int(np.round(series.pd_series().shape[0] * .8))\n",
    "# split_date2 = series.pd_series().index[split2]\n",
    "# print('type(split_date2): {}'.format(type(split_date2)))\n",
    "# print('type(split_date2).date(): {}'.format(type(split_date2.date())))\n",
    "# print('type(split_date2).timestamp(): {}'.format(type(split_date2.timestamp())))\n",
    "# print(type(series_val))\n",
    "# print('split_date2: {}'.format(split_date2 + 5))\n",
    "# print((split_date2 + 5).date() in series_val.pd_series().index)\n",
    "\n",
    "# historical_pred = simulate_forecast_regr2(historical_ar_preds, series_val, regrModel,\n",
    "#                                          (split_date2 + 5).date(), fcast_horizon_n=6)"
   ]
  },
  {
   "cell_type": "code",
   "execution_count": null,
   "metadata": {},
   "outputs": [],
   "source": []
  },
  {
   "cell_type": "code",
   "execution_count": null,
   "metadata": {},
   "outputs": [],
   "source": [
    "# print(series_val.pd_series().index[0] + 1)\n",
    "# print(series_val.pd_series().index[-1])\n",
    "# print(split_date)"
   ]
  },
  {
   "cell_type": "code",
   "execution_count": null,
   "metadata": {},
   "outputs": [],
   "source": [
    "# print(type(historical_ar_preds))\n",
    "# print(type(historical_ar_preds[0]))\n",
    "# print(historical_ar_preds[0].pd_series().index[0])\n",
    "# print(historical_ar_preds[0].pd_series().index[-1])\n",
    "# print(series_val.pd_series().index[0] + 1)\n",
    "# print(split_date)"
   ]
  },
  {
   "cell_type": "code",
   "execution_count": null,
   "metadata": {},
   "outputs": [],
   "source": []
  },
  {
   "cell_type": "markdown",
   "metadata": {},
   "source": [
    "Compute errors and plot"
   ]
  },
  {
   "cell_type": "code",
   "execution_count": null,
   "metadata": {},
   "outputs": [],
   "source": [
    "plt.figure(figsize=(8,5))\n",
    "\n",
    "series.plot()\n",
    "for i, m in enumerate(models):\n",
    "    historical_ar_preds[i].plot(label=str(m))\n",
    "    \n",
    "    # intersect last part, to compare everything with ensemble\n",
    "    ar_pred = historical_ar_preds[i].intersect(historical_pred)\n",
    "       \n",
    "    mape_er = mape(series.intersect(historical_pred), ar_pred)\n",
    "    print('MAPE Error {}: {}'.format(m, mape_er))\n",
    "\n",
    "print('MAPE Error ensemble: {}'.format(mape(series.intersect(historical_pred), historical_pred)))\n",
    "\n",
    "historical_pred.plot(label='Ensemble')\n",
    "\n",
    "plt.legend()"
   ]
  },
  {
   "cell_type": "code",
   "execution_count": null,
   "metadata": {},
   "outputs": [],
   "source": []
  }
 ],
 "metadata": {
  "hide_input": false,
  "kernelspec": {
   "display_name": "Python 3",
   "language": "python",
   "name": "python3"
  },
  "language_info": {
   "codemirror_mode": {
    "name": "ipython",
    "version": 3
   },
   "file_extension": ".py",
   "mimetype": "text/x-python",
   "name": "python",
   "nbconvert_exporter": "python",
   "pygments_lexer": "ipython3",
   "version": "3.6.7"
  }
 },
 "nbformat": 4,
 "nbformat_minor": 2
}
