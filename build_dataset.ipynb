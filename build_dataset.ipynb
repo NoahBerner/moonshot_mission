{
  "nbformat": 4,
  "nbformat_minor": 0,
  "metadata": {
    "colab": {
      "name": "Algothon.ipynb",
      "provenance": [],
      "collapsed_sections": [],
      "toc_visible": true
    },
    "kernelspec": {
      "name": "python3",
      "display_name": "Python 3"
    }
  },
  "cells": [
    {
      "cell_type": "markdown",
      "metadata": {
        "id": "3FZhTTjBda-X",
        "colab_type": "text"
      },
      "source": [
        "# Import packages"
      ]
    },
    {
      "cell_type": "code",
      "metadata": {
        "id": "G_iYPteRIXLh",
        "colab_type": "code",
        "outputId": "d929fd56-4c6c-4201-9023-14bfa1f0d97c",
        "colab": {
          "base_uri": "https://localhost:8080/",
          "height": 359
        }
      },
      "source": [
        "!pip install quandl"
      ],
      "execution_count": 50,
      "outputs": [
        {
          "output_type": "stream",
          "text": [
            "Requirement already satisfied: quandl in /usr/local/lib/python3.6/dist-packages (3.4.8)\n",
            "Requirement already satisfied: python-dateutil in /usr/local/lib/python3.6/dist-packages (from quandl) (2.5.3)\n",
            "Requirement already satisfied: pyasn1 in /usr/local/lib/python3.6/dist-packages (from quandl) (0.4.7)\n",
            "Requirement already satisfied: six in /usr/local/lib/python3.6/dist-packages (from quandl) (1.12.0)\n",
            "Requirement already satisfied: ndg-httpsclient in /usr/local/lib/python3.6/dist-packages (from quandl) (0.5.1)\n",
            "Requirement already satisfied: inflection>=0.3.1 in /usr/local/lib/python3.6/dist-packages (from quandl) (0.3.1)\n",
            "Requirement already satisfied: more-itertools<=5.0.0 in /usr/local/lib/python3.6/dist-packages (from quandl) (5.0.0)\n",
            "Requirement already satisfied: pyOpenSSL in /usr/local/lib/python3.6/dist-packages (from quandl) (19.0.0)\n",
            "Requirement already satisfied: numpy>=1.8 in /usr/local/lib/python3.6/dist-packages (from quandl) (1.16.5)\n",
            "Requirement already satisfied: requests>=2.7.0 in /usr/local/lib/python3.6/dist-packages (from quandl) (2.21.0)\n",
            "Requirement already satisfied: pandas>=0.14 in /usr/local/lib/python3.6/dist-packages (from quandl) (0.24.2)\n",
            "Requirement already satisfied: cryptography>=2.3 in /usr/local/lib/python3.6/dist-packages (from pyOpenSSL->quandl) (2.8)\n",
            "Requirement already satisfied: urllib3<1.25,>=1.21.1 in /usr/local/lib/python3.6/dist-packages (from requests>=2.7.0->quandl) (1.24.3)\n",
            "Requirement already satisfied: certifi>=2017.4.17 in /usr/local/lib/python3.6/dist-packages (from requests>=2.7.0->quandl) (2019.9.11)\n",
            "Requirement already satisfied: idna<2.9,>=2.5 in /usr/local/lib/python3.6/dist-packages (from requests>=2.7.0->quandl) (2.8)\n",
            "Requirement already satisfied: chardet<3.1.0,>=3.0.2 in /usr/local/lib/python3.6/dist-packages (from requests>=2.7.0->quandl) (3.0.4)\n",
            "Requirement already satisfied: pytz>=2011k in /usr/local/lib/python3.6/dist-packages (from pandas>=0.14->quandl) (2018.9)\n",
            "Requirement already satisfied: cffi!=1.11.3,>=1.8 in /usr/local/lib/python3.6/dist-packages (from cryptography>=2.3->pyOpenSSL->quandl) (1.13.0)\n",
            "Requirement already satisfied: pycparser in /usr/local/lib/python3.6/dist-packages (from cffi!=1.11.3,>=1.8->cryptography>=2.3->pyOpenSSL->quandl) (2.19)\n"
          ],
          "name": "stdout"
        }
      ]
    },
    {
      "cell_type": "code",
      "metadata": {
        "id": "U0vlGHQ1JEkM",
        "colab_type": "code",
        "colab": {}
      },
      "source": [
        "import quandl\n",
        "import pandas as pd"
      ],
      "execution_count": 0,
      "outputs": []
    },
    {
      "cell_type": "code",
      "metadata": {
        "id": "PFlp15RiJR-P",
        "colab_type": "code",
        "colab": {}
      },
      "source": [
        "quandl.ApiConfig.api_key = 'txyy5YsPXKcYkozp7vYs'"
      ],
      "execution_count": 0,
      "outputs": []
    },
    {
      "cell_type": "markdown",
      "metadata": {
        "id": "Q4JJbCJLdlog",
        "colab_type": "text"
      },
      "source": [
        "# Get the dataset from multiple sources"
      ]
    },
    {
      "cell_type": "markdown",
      "metadata": {
        "id": "LmoOn2lcxLTV",
        "colab_type": "text"
      },
      "source": [
        "## Stocks"
      ]
    },
    {
      "cell_type": "code",
      "metadata": {
        "id": "hBOL2SRFMMZG",
        "colab_type": "code",
        "colab": {}
      },
      "source": [
        "GM_stocks = quandl.get('EOD/GM')"
      ],
      "execution_count": 0,
      "outputs": []
    },
    {
      "cell_type": "code",
      "metadata": {
        "id": "k3mrAg1bzDGc",
        "colab_type": "code",
        "colab": {}
      },
      "source": [
        "GM_stocks.index.names = ['date']"
      ],
      "execution_count": 0,
      "outputs": []
    },
    {
      "cell_type": "markdown",
      "metadata": {
        "id": "EHsAWtMXxNsT",
        "colab_type": "text"
      },
      "source": [
        "## Facebook (FBD)"
      ]
    },
    {
      "cell_type": "code",
      "metadata": {
        "id": "XvOHxYW6R4kB",
        "colab_type": "code",
        "colab": {}
      },
      "source": [
        "GM_FBD = quandl.get_table('SMA/FBD', brand_ticker='GM', paginate=True)"
      ],
      "execution_count": 0,
      "outputs": []
    },
    {
      "cell_type": "code",
      "metadata": {
        "id": "-va629KrfnV-",
        "colab_type": "code",
        "colab": {}
      },
      "source": [
        "GM_FBD = GM_FBD.groupby('date').sum()"
      ],
      "execution_count": 0,
      "outputs": []
    },
    {
      "cell_type": "markdown",
      "metadata": {
        "id": "5tQoAkN_xPuZ",
        "colab_type": "text"
      },
      "source": [
        "## Facebook (FBP)"
      ]
    },
    {
      "cell_type": "code",
      "metadata": {
        "id": "Q92JNTsNhofw",
        "colab_type": "code",
        "colab": {}
      },
      "source": [
        "GM_FBP = quandl.get_table('SMA/FBP', brand_ticker='GM', paginate=True)"
      ],
      "execution_count": 0,
      "outputs": []
    },
    {
      "cell_type": "code",
      "metadata": {
        "id": "uj73NQoLiwh3",
        "colab_type": "code",
        "colab": {}
      },
      "source": [
        "GM_FBP['created_time'] = pd.to_datetime(GM_FBP['created_time']).dt.strftime('%Y-%m-%d')"
      ],
      "execution_count": 0,
      "outputs": []
    },
    {
      "cell_type": "code",
      "metadata": {
        "id": "zCCPob4ji5JS",
        "colab_type": "code",
        "colab": {}
      },
      "source": [
        "GM_FBP = GM_FBP.replace(['POSITIVE', 'NEGATIVE', 'NEUTRAL', 'UNDEFINED'], [1, -1, 0, 0])"
      ],
      "execution_count": 0,
      "outputs": []
    },
    {
      "cell_type": "code",
      "metadata": {
        "id": "g-Jxk-2aorKO",
        "colab_type": "code",
        "colab": {}
      },
      "source": [
        "GM_FBP = GM_FBP.groupby('date').sum()"
      ],
      "execution_count": 0,
      "outputs": []
    },
    {
      "cell_type": "markdown",
      "metadata": {
        "id": "BrYKT3aIotSE",
        "colab_type": "text"
      },
      "source": [
        "## Twitter(TWTD)"
      ]
    },
    {
      "cell_type": "code",
      "metadata": {
        "id": "tnd0mnnKoEAa",
        "colab_type": "code",
        "colab": {}
      },
      "source": [
        "GM_TWTD = quandl.get_table('SMA/TWTD', brand_ticker='GM', paginate=True)"
      ],
      "execution_count": 0,
      "outputs": []
    },
    {
      "cell_type": "code",
      "metadata": {
        "id": "OgPbbzttpAdn",
        "colab_type": "code",
        "colab": {}
      },
      "source": [
        "GM_TWTD = GM_TWTD.groupby('date').sum()"
      ],
      "execution_count": 0,
      "outputs": []
    },
    {
      "cell_type": "code",
      "metadata": {
        "id": "tCS7PPZp9jP1",
        "colab_type": "code",
        "colab": {}
      },
      "source": [
        "oil = pd.read_csv('wti-crude-oil-prices-10-year-daily-chart.csv')"
      ],
      "execution_count": 0,
      "outputs": []
    },
    {
      "cell_type": "code",
      "metadata": {
        "id": "NGviOkf1Bz6x",
        "colab_type": "code",
        "colab": {}
      },
      "source": [
        "oil['date']= pd.to_datetime(oil['date'])"
      ],
      "execution_count": 0,
      "outputs": []
    },
    {
      "cell_type": "code",
      "metadata": {
        "id": "GAJka3mz-PyY",
        "colab_type": "code",
        "colab": {}
      },
      "source": [
        "oil = oil.set_index('date')"
      ],
      "execution_count": 0,
      "outputs": []
    },
    {
      "cell_type": "markdown",
      "metadata": {
        "id": "Ioh7RhbLqXaF",
        "colab_type": "text"
      },
      "source": [
        "## Merge"
      ]
    },
    {
      "cell_type": "code",
      "metadata": {
        "id": "vSvEUe2SqYhi",
        "colab_type": "code",
        "colab": {}
      },
      "source": [
        "result = pd.merge(GM_stocks, GM_FBP, on='date')"
      ],
      "execution_count": 0,
      "outputs": []
    },
    {
      "cell_type": "code",
      "metadata": {
        "id": "CYnwGIRV0UHj",
        "colab_type": "code",
        "colab": {}
      },
      "source": [
        "result = pd.merge(result, GM_FBD, on='date')"
      ],
      "execution_count": 0,
      "outputs": []
    },
    {
      "cell_type": "code",
      "metadata": {
        "id": "t1q-XYZurCHs",
        "colab_type": "code",
        "colab": {}
      },
      "source": [
        "result = pd.merge(result, GM_TWTD, on='date')"
      ],
      "execution_count": 0,
      "outputs": []
    },
    {
      "cell_type": "code",
      "metadata": {
        "id": "HdPm52JA-d2i",
        "colab_type": "code",
        "colab": {}
      },
      "source": [
        "result = pd.merge(result, oil, on='date')"
      ],
      "execution_count": 0,
      "outputs": []
    },
    {
      "cell_type": "code",
      "metadata": {
        "id": "ikkr0iZBElvr",
        "colab_type": "code",
        "colab": {}
      },
      "source": [
        "result = result.drop(columns=['Open',\t'High',\t'Low',\t'Volume',\t'Dividend', 'Split',\t'Adj_Open',\t'Adj_High',\t'Adj_Low',\t'Adj_Close',\t'Adj_Volume'])"
      ],
      "execution_count": 0,
      "outputs": []
    },
    {
      "cell_type": "markdown",
      "metadata": {
        "id": "AJqsKT3cFLyt",
        "colab_type": "text"
      },
      "source": [
        "## Feature generation"
      ]
    },
    {
      "cell_type": "code",
      "metadata": {
        "id": "ftWIPXLpuH6U",
        "colab_type": "code",
        "colab": {}
      },
      "source": [
        "temps = pd.DataFrame(result.Close)"
      ],
      "execution_count": 0,
      "outputs": []
    },
    {
      "cell_type": "code",
      "metadata": {
        "id": "zOOLdUvquH3_",
        "colab_type": "code",
        "colab": {}
      },
      "source": [
        "width = 5\n",
        "shifted = temps.shift(width - 1)\n",
        "window = shifted.rolling(window=width)\n",
        "rw_week = pd.concat([window.min(), window.mean(), window.max(), window.std()], axis=1)\n",
        "rw_week.columns = ['min_wk', 'mean_wk', 'max_wk', 'std_wk']"
      ],
      "execution_count": 0,
      "outputs": []
    },
    {
      "cell_type": "code",
      "metadata": {
        "id": "1PNoJLlv0EYf",
        "colab_type": "code",
        "colab": {}
      },
      "source": [
        "width = 22\n",
        "shifted = temps.shift(width - 1)\n",
        "window = shifted.rolling(window=width)\n",
        "rw_month = pd.concat([window.min(), window.mean(), window.max(), window.std()], axis=1)\n",
        "rw_month.columns = ['min_mth', 'mean_mth', 'max_mth', 'std_mth']"
      ],
      "execution_count": 0,
      "outputs": []
    },
    {
      "cell_type": "code",
      "metadata": {
        "id": "XbC1nO-J1Wjl",
        "colab_type": "code",
        "colab": {}
      },
      "source": [
        "result = pd.concat([result, rw_week, rw_month], axis=1)"
      ],
      "execution_count": 0,
      "outputs": []
    },
    {
      "cell_type": "code",
      "metadata": {
        "id": "pMRQWQLr1xC7",
        "colab_type": "code",
        "colab": {}
      },
      "source": [
        "result = result.dropna()"
      ],
      "execution_count": 0,
      "outputs": []
    },
    {
      "cell_type": "code",
      "metadata": {
        "id": "GrY2HNfgIk8L",
        "colab_type": "code",
        "colab": {}
      },
      "source": [
        "df = result\n",
        "business_days = pd.bdate_range(start=df.index[0], end=df.index[-1])"
      ],
      "execution_count": 0,
      "outputs": []
    },
    {
      "cell_type": "code",
      "metadata": {
        "id": "FwYQ2AsGJLAV",
        "colab_type": "code",
        "colab": {}
      },
      "source": [
        "business = pd.DataFrame(business_days, columns=['date'])"
      ],
      "execution_count": 0,
      "outputs": []
    },
    {
      "cell_type": "code",
      "metadata": {
        "id": "ibI9651BRaN-",
        "colab_type": "code",
        "colab": {}
      },
      "source": [
        "result = pd.merge(business, result, on='date', how='outer')"
      ],
      "execution_count": 0,
      "outputs": []
    },
    {
      "cell_type": "code",
      "metadata": {
        "id": "O69qoiPPSooc",
        "colab_type": "code",
        "colab": {}
      },
      "source": [
        "result = result.interpolate()"
      ],
      "execution_count": 0,
      "outputs": []
    },
    {
      "cell_type": "code",
      "metadata": {
        "id": "kTx5I_dEXelj",
        "colab_type": "code",
        "colab": {}
      },
      "source": [
        "result = result.dropna()"
      ],
      "execution_count": 0,
      "outputs": []
    },
    {
      "cell_type": "code",
      "metadata": {
        "id": "nU52hYeuFqAq",
        "colab_type": "code",
        "colab": {}
      },
      "source": [
        "result.to_csv('dataset.csv')"
      ],
      "execution_count": 0,
      "outputs": []
    },
    {
      "cell_type": "markdown",
      "metadata": {
        "id": "NDT8ojFlbuMK",
        "colab_type": "text"
      },
      "source": [
        "## Downsample"
      ]
    },
    {
      "cell_type": "code",
      "metadata": {
        "id": "dP-Nh8PGbxcg",
        "colab_type": "code",
        "colab": {}
      },
      "source": [
        "result['date'] = pd.to_datetime(result['date']).dt.strftime('%Y-%m')"
      ],
      "execution_count": 0,
      "outputs": []
    },
    {
      "cell_type": "code",
      "metadata": {
        "id": "2dSNBW1LcPPD",
        "colab_type": "code",
        "colab": {}
      },
      "source": [
        "result_ds = result.groupby('date').sum()"
      ],
      "execution_count": 0,
      "outputs": []
    },
    {
      "cell_type": "code",
      "metadata": {
        "id": "C6iAWnaqcaNz",
        "colab_type": "code",
        "colab": {}
      },
      "source": [
        "result_ds.to_csv('dataset_ds.csv')"
      ],
      "execution_count": 0,
      "outputs": []
    }
  ]
}